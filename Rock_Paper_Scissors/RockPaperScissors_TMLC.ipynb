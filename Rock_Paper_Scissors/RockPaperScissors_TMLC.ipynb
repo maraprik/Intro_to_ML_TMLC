{
  "nbformat": 4,
  "nbformat_minor": 0,
  "metadata": {
    "colab": {
      "provenance": []
    },
    "kernelspec": {
      "name": "python3",
      "display_name": "Python 3"
    },
    "language_info": {
      "name": "python"
    }
  },
  "cells": [
    {
      "cell_type": "code",
      "source": [
        "import random\n",
        "\n",
        "# Display rules and game options\n",
        "print(\"Welcome to Rock-Paper-Scissors!\\n\")\n",
        "print(\"Rules:\\n1 - Rock\\n2 - Paper\\n3 - Scissors\\nEnter your choice. To stop, enter '0'.\")\n",
        "\n",
        "# Define choice names for readability\n",
        "choice_names = {1: \"Rock\", 2: \"Paper\", 3: \"Scissors\"}\n",
        "\n",
        "# Main game loop\n",
        "while True:\n",
        "  # Prompt for user choice (handle invalid input directly)\n",
        "  while True:\n",
        "    try:\n",
        "      user_choice = int(input(\"Enter your choice: \"))\n",
        "      if user_choice not in [0, 1, 2, 3]:\n",
        "        print(\"Invalid choice. Please enter 0, 1, 2, or 3.\")\n",
        "        continue\n",
        "      break\n",
        "    except ValueError:\n",
        "      print(\"Invalid input. Please enter a number.\")\n",
        "\n",
        "  # Exit if user chooses 0\n",
        "  if user_choice == 0:\n",
        "    print(\"Thanks for playing! Goodbye.\")\n",
        "    break\n",
        "\n",
        "  # Get computer choice and choose names\n",
        "  computer_choice = random.randint(1, 3)\n",
        "  user_choice_name = choice_names[user_choice]\n",
        "  computer_choice_name = choice_names[computer_choice]\n",
        "\n",
        "  # Show choices and outcome\n",
        "  print(\"\\nYou chose:\", user_choice_name)\n",
        "  print(\"Computer chose:\", computer_choice_name)\n",
        "\n",
        "  if user_choice == computer_choice:\n",
        "    print(\"It's a tie!\")\n",
        "  elif (user_choice == 1 and computer_choice == 3) or \\\n",
        "       (user_choice == 2 and computer_choice == 1) or \\\n",
        "       (user_choice == 3 and computer_choice == 2):\n",
        "    print(\"You win!\")\n",
        "  else:\n",
        "    print(\"Computer wins!\")\n",
        "\n",
        "  # Ask to play again and repeat if yes\n",
        "  play_again = input(\"Play again? (Y/N): \").upper()\n",
        "  if play_again != \"Y\":\n",
        "    print(\"Thanks for playing! Goodbye.\")\n",
        "    break\n"
      ],
      "metadata": {
        "colab": {
          "base_uri": "https://localhost:8080/"
        },
        "id": "VkeJZfxdQqBY",
        "outputId": "5a31b7a4-564a-4c8d-af6f-159cb99ca66c"
      },
      "execution_count": 12,
      "outputs": [
        {
          "output_type": "stream",
          "name": "stdout",
          "text": [
            "Welcome to Rock-Paper-Scissors!\n",
            "\n",
            "Rules:\n",
            "1 - Rock\n",
            "2 - Paper\n",
            "3 - Scissors\n",
            "Enter your choice. To stop, enter '0'.\n",
            "Enter your choice: 1\n",
            "\n",
            "You chose: Rock\n",
            "Computer chose: Scissors\n",
            "You win!\n",
            "Play again? (Y/N): Y\n",
            "Enter your choice: 3\n",
            "\n",
            "You chose: Scissors\n",
            "Computer chose: Paper\n",
            "You win!\n",
            "Play again? (Y/N): Y\n",
            "Enter your choice: 3\n",
            "\n",
            "You chose: Scissors\n",
            "Computer chose: Paper\n",
            "You win!\n",
            "Play again? (Y/N): N\n",
            "Thanks for playing! Goodbye.\n"
          ]
        }
      ]
    },
    {
      "cell_type": "code",
      "source": [],
      "metadata": {
        "id": "fKhIpEfzTmjt"
      },
      "execution_count": null,
      "outputs": []
    }
  ]
}