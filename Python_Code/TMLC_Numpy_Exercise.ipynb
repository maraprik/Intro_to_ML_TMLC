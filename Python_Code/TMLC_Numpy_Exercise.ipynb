{
  "nbformat": 4,
  "nbformat_minor": 0,
  "metadata": {
    "colab": {
      "provenance": []
    },
    "kernelspec": {
      "name": "python3",
      "display_name": "Python 3"
    },
    "language_info": {
      "name": "python"
    }
  },
  "cells": [
    {
      "cell_type": "code",
      "execution_count": null,
      "metadata": {
        "colab": {
          "base_uri": "https://localhost:8080/"
        },
        "id": "6-59MlbQK_u9",
        "outputId": "898fa3cf-7987-4243-cebe-6ad21d881e0f"
      },
      "outputs": [
        {
          "output_type": "stream",
          "name": "stdout",
          "text": [
            "Feature names: ['alcohol', 'malic_acid', 'ash', 'alcalinity_of_ash', 'magnesium', 'total_phenols', 'flavanoids', 'nonflavanoid_phenols', 'proanthocyanins', 'color_intensity', 'hue', 'od280/od315_of_diluted_wines', 'proline']\n"
          ]
        }
      ],
      "source": [
        "from sklearn.datasets import load_wine\n",
        "wine = load_wine()\n",
        "feature_names = wine.feature_names\n",
        "print(\"Feature names:\", feature_names)\n",
        "# 2. Load data into respective variables\n",
        "X = wine.data # Independent variables (feature matrix)\n",
        "y = wine.target # Dependent variables (target column)"
      ]
    },
    {
      "cell_type": "code",
      "source": [
        "# Find the shape of the independent variables (X)\n",
        "X_shape = X.shape\n",
        "\n",
        "# Find the shape of the dependent variables (y)\n",
        "y_shape = y.shape\n",
        "\n",
        "print(\"Shape of Independent variables (X):\", X_shape)\n",
        "print(\"Shape of Dependent variables (y):\", y_shape)\n"
      ],
      "metadata": {
        "colab": {
          "base_uri": "https://localhost:8080/"
        },
        "id": "RwO4tCg8LPwR",
        "outputId": "26fda779-a744-4de3-d0ec-fae375990511"
      },
      "execution_count": null,
      "outputs": [
        {
          "output_type": "stream",
          "name": "stdout",
          "text": [
            "Shape of Independent variables (X): (178, 13)\n",
            "Shape of Dependent variables (y): (178,)\n"
          ]
        }
      ]
    },
    {
      "cell_type": "code",
      "source": [
        "wine.feature_names"
      ],
      "metadata": {
        "colab": {
          "base_uri": "https://localhost:8080/"
        },
        "id": "A1jLK_sFLrRy",
        "outputId": "28bb479e-e5bc-446e-9c22-43b05c91ce6d"
      },
      "execution_count": null,
      "outputs": [
        {
          "output_type": "execute_result",
          "data": {
            "text/plain": [
              "['alcohol',\n",
              " 'malic_acid',\n",
              " 'ash',\n",
              " 'alcalinity_of_ash',\n",
              " 'magnesium',\n",
              " 'total_phenols',\n",
              " 'flavanoids',\n",
              " 'nonflavanoid_phenols',\n",
              " 'proanthocyanins',\n",
              " 'color_intensity',\n",
              " 'hue',\n",
              " 'od280/od315_of_diluted_wines',\n",
              " 'proline']"
            ]
          },
          "metadata": {},
          "execution_count": 5
        }
      ]
    },
    {
      "cell_type": "code",
      "source": [
        "first_5_samples = X[:5]\n",
        "\n",
        "print(\"First 5 samples: \", first_5_samples)\n"
      ],
      "metadata": {
        "colab": {
          "base_uri": "https://localhost:8080/"
        },
        "id": "JA-3qv3ILwNL",
        "outputId": "8c49c6b4-9a4a-45ba-a536-1c0e4ec7a956"
      },
      "execution_count": null,
      "outputs": [
        {
          "output_type": "stream",
          "name": "stdout",
          "text": [
            "First 5 samples:  [[1.423e+01 1.710e+00 2.430e+00 1.560e+01 1.270e+02 2.800e+00 3.060e+00\n",
            "  2.800e-01 2.290e+00 5.640e+00 1.040e+00 3.920e+00 1.065e+03]\n",
            " [1.320e+01 1.780e+00 2.140e+00 1.120e+01 1.000e+02 2.650e+00 2.760e+00\n",
            "  2.600e-01 1.280e+00 4.380e+00 1.050e+00 3.400e+00 1.050e+03]\n",
            " [1.316e+01 2.360e+00 2.670e+00 1.860e+01 1.010e+02 2.800e+00 3.240e+00\n",
            "  3.000e-01 2.810e+00 5.680e+00 1.030e+00 3.170e+00 1.185e+03]\n",
            " [1.437e+01 1.950e+00 2.500e+00 1.680e+01 1.130e+02 3.850e+00 3.490e+00\n",
            "  2.400e-01 2.180e+00 7.800e+00 8.600e-01 3.450e+00 1.480e+03]\n",
            " [1.324e+01 2.590e+00 2.870e+00 2.100e+01 1.180e+02 2.800e+00 2.690e+00\n",
            "  3.900e-01 1.820e+00 4.320e+00 1.040e+00 2.930e+00 7.350e+02]]\n"
          ]
        }
      ]
    },
    {
      "cell_type": "code",
      "source": [
        "first_5_labels = y[:5]\n",
        "\n",
        "print(\"First 5 target labels:\", first_5_labels)"
      ],
      "metadata": {
        "colab": {
          "base_uri": "https://localhost:8080/"
        },
        "id": "_sOghvBOL7Gc",
        "outputId": "70a2899e-8dfd-4468-9c74-491ca0294e66"
      },
      "execution_count": null,
      "outputs": [
        {
          "output_type": "stream",
          "name": "stdout",
          "text": [
            "First 5 target labels: [0 0 0 0 0]\n"
          ]
        }
      ]
    },
    {
      "cell_type": "code",
      "source": [
        "import numpy as np\n",
        "min_values = np.min(X, axis=0)\n",
        "max_values = np.max(X, axis=0)\n",
        "\n",
        "for i in range(X.shape[1]):  # Iterate over each feature\n",
        "    print(\"Feature {}: Min = {}, Max = {}\".format(i+1, min_values[i], max_values[i]))"
      ],
      "metadata": {
        "colab": {
          "base_uri": "https://localhost:8080/"
        },
        "id": "MYyT7ksGMMvf",
        "outputId": "85166632-3cb5-4a1b-866a-dacfb72577f2"
      },
      "execution_count": null,
      "outputs": [
        {
          "output_type": "stream",
          "name": "stdout",
          "text": [
            "Feature 1: Min = 11.03, Max = 14.83\n",
            "Feature 2: Min = 0.74, Max = 5.8\n",
            "Feature 3: Min = 1.36, Max = 3.23\n",
            "Feature 4: Min = 10.6, Max = 30.0\n",
            "Feature 5: Min = 70.0, Max = 162.0\n",
            "Feature 6: Min = 0.98, Max = 3.88\n",
            "Feature 7: Min = 0.34, Max = 5.08\n",
            "Feature 8: Min = 0.13, Max = 0.66\n",
            "Feature 9: Min = 0.41, Max = 3.58\n",
            "Feature 10: Min = 1.28, Max = 13.0\n",
            "Feature 11: Min = 0.48, Max = 1.71\n",
            "Feature 12: Min = 1.27, Max = 4.0\n",
            "Feature 13: Min = 278.0, Max = 1680.0\n"
          ]
        }
      ]
    },
    {
      "cell_type": "code",
      "source": [
        "# Find the index of the column 'alcohol' in the feature_names list\n",
        "column_name = 'alcohol'\n",
        "c_index = feature_names.index(column_name)\n",
        "\n",
        "# Calculate the mean value of the alcohol content feature\n",
        "mean_alcohol_content = np.mean(X[:, c_index])\n",
        "mean_alcohol_content"
      ],
      "metadata": {
        "colab": {
          "base_uri": "https://localhost:8080/"
        },
        "id": "UHvhAtflMxUh",
        "outputId": "f70f706a-0731-4932-c465-c059865fb50d"
      },
      "execution_count": null,
      "outputs": [
        {
          "output_type": "execute_result",
          "data": {
            "text/plain": [
              "13.00061797752809"
            ]
          },
          "metadata": {},
          "execution_count": 17
        }
      ]
    },
    {
      "cell_type": "code",
      "source": [
        "unique_labels = np.unique(y)\n",
        "\n",
        "print(\"Unique class labels in the target vector (y):\", unique_labels)\n"
      ],
      "metadata": {
        "colab": {
          "base_uri": "https://localhost:8080/"
        },
        "id": "tYhhXDu0T_p_",
        "outputId": "e1f3e9ab-1220-4a8a-c83e-61d45cb51883"
      },
      "execution_count": null,
      "outputs": [
        {
          "output_type": "stream",
          "name": "stdout",
          "text": [
            "Unique class labels in the target vector (y): [0 1 2]\n"
          ]
        }
      ]
    },
    {
      "cell_type": "code",
      "source": [
        "# Refer to the magnesium column using indexing\n",
        "magnesium_column = X[:, 4]\n",
        "\n",
        "# Find the maximum value of this column using the max function\n",
        "max_magnesium = np.max(magnesium_column)\n",
        "\n",
        "print(\"Maximum value of the magnesium column:\", max_magnesium)"
      ],
      "metadata": {
        "colab": {
          "base_uri": "https://localhost:8080/"
        },
        "id": "ahVtAGRgUPTn",
        "outputId": "9187189a-4fb6-4e8f-913a-b58c5d54e7ed"
      },
      "execution_count": null,
      "outputs": [
        {
          "output_type": "stream",
          "name": "stdout",
          "text": [
            "Maximum value of the magnesium column: 162.0\n"
          ]
        }
      ]
    },
    {
      "cell_type": "code",
      "source": [
        "# Get the indices\n",
        "proanthocyanins_idx = feature_names.index('proanthocyanins')\n",
        "color_intensity_idx = feature_names.index('color_intensity')\n",
        "hue_idx = feature_names.index('hue')\n",
        "\n",
        "# specified columns using indexing\n",
        "proanthocyanins_column = X[:, proanthocyanins_idx]\n",
        "color_intensity_column = X[:, color_intensity_idx]\n",
        "hue_column = X[:, hue_idx]\n",
        "\n",
        "# mean, median, and standard deviation for each column\n",
        "proanthocyanins_mean = np.round(np.mean(proanthocyanins_column), 3)\n",
        "proanthocyanins_median = np.round(np.median(proanthocyanins_column), 3)\n",
        "proanthocyanins_std = np.round(np.std(proanthocyanins_column), 3)\n",
        "\n",
        "color_intensity_mean = np.round(np.mean(color_intensity_column), 3)\n",
        "color_intensity_median = np.round(np.median(color_intensity_column), 3)\n",
        "color_intensity_std = np.round(np.std(color_intensity_column), 3)\n",
        "\n",
        "hue_mean = np.round(np.mean(hue_column), 3)\n",
        "hue_median = np.round(np.median(hue_column), 3)\n",
        "hue_std = np.round(np.std(hue_column), 3)\n",
        "\n",
        "# Print the results\n",
        "print(\"Mean of proanthocyanins is:\", proanthocyanins_mean)\n",
        "print(\"Median of proanthocyanins is:\", proanthocyanins_median)\n",
        "print(\"Standard deviation of proanthocyanins is:\", proanthocyanins_std)\n",
        "\n",
        "print(\"Mean of color_intensity is:\", color_intensity_mean)\n",
        "print(\"Median of color_intensity is:\", color_intensity_median)\n",
        "print(\"Standard deviation of color_intensity is:\", color_intensity_std)\n",
        "\n",
        "print(\"Mean of hue is:\", hue_mean)\n",
        "print(\"Median of hue is:\", hue_median)\n",
        "print(\"Standard deviation of hue is:\", hue_std)\n"
      ],
      "metadata": {
        "colab": {
          "base_uri": "https://localhost:8080/"
        },
        "id": "x36tStCyU1Ep",
        "outputId": "7f4e4df1-ce13-4cca-8b7a-fcc1bea00b87"
      },
      "execution_count": null,
      "outputs": [
        {
          "output_type": "stream",
          "name": "stdout",
          "text": [
            "Mean of proanthocyanins is: 1.591\n",
            "Median of proanthocyanins is: 1.555\n",
            "Standard deviation of proanthocyanins is: 0.571\n",
            "Mean of color_intensity is: 5.058\n",
            "Median of color_intensity is: 4.69\n",
            "Standard deviation of color_intensity is: 2.312\n",
            "Mean of hue is: 0.957\n",
            "Median of hue is: 0.965\n",
            "Standard deviation of hue is: 0.228\n"
          ]
        }
      ]
    },
    {
      "cell_type": "code",
      "source": [],
      "metadata": {
        "id": "F_LhBcNUVLLd"
      },
      "execution_count": null,
      "outputs": []
    }
  ]
}