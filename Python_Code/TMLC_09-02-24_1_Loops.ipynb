{
 "cells": [
  {
   "cell_type": "code",
   "execution_count": 1,
   "id": "0eeafed6-1fa0-41b8-83f1-fdafafdd6254",
   "metadata": {
    "tags": []
   },
   "outputs": [
    {
     "name": "stdout",
     "output_type": "stream",
     "text": [
      "Even numbers: [2, 4, 6, 8, 10, 12, 14, 16, 18, 20, 22, 24]\n",
      "Odd numbers: [1, 3, 5, 7, 9, 11, 13, 15, 17, 19, 21, 23]\n"
     ]
    }
   ],
   "source": [
    "# Generate a list of numbers from 1 to 24\n",
    "numbers = list(range(1, 25))\n",
    "\n",
    "# Initialize empty lists for even and odd numbers\n",
    "even_numbers = []\n",
    "odd_numbers = []\n",
    "\n",
    "# Iterate through the list and separate even and odd numbers\n",
    "for number in numbers:\n",
    "  if number % 2 == 0:\n",
    "    even_numbers.append(number)\n",
    "  else:\n",
    "    odd_numbers.append(number)\n",
    "\n",
    "# Print the results\n",
    "print(\"Even numbers:\", even_numbers)\n",
    "print(\"Odd numbers:\", odd_numbers)"
   ]
  },
  {
   "cell_type": "code",
   "execution_count": 2,
   "id": "e20113ef-014c-4315-8836-97493066982b",
   "metadata": {
    "tags": []
   },
   "outputs": [
    {
     "name": "stdout",
     "output_type": "stream",
     "text": [
      "Even numbers: [2, 4, 6, 8, 10, 12, 14, 16, 18, 20, 22, 24]\n",
      "Odd numbers: [1, 3, 5, 7, 9, 11, 13, 15, 17, 19, 21, 23]\n",
      "Sum of even numbers: 156\n"
     ]
    }
   ],
   "source": [
    "# numbers from 1 to 24\n",
    "numbers = list(range(1, 25))\n",
    "\n",
    "# empty lists for even and odd numbers\n",
    "even_numbers = []\n",
    "odd_numbers = []\n",
    "\n",
    "# Iterate through the list and separate even and odd numbers\n",
    "for number in numbers:\n",
    "  if number % 2 == 0:\n",
    "    even_numbers.append(number)\n",
    "  else:\n",
    "    odd_numbers.append(number)\n",
    "\n",
    "# sum of even numbers\n",
    "sum_of_even = sum(even_numbers)\n",
    "\n",
    "# results\n",
    "print(\"Even numbers:\", even_numbers)\n",
    "print(\"Odd numbers:\", odd_numbers)\n",
    "print(\"Sum of even numbers:\", sum_of_even)\n"
   ]
  },
  {
   "cell_type": "code",
   "execution_count": 3,
   "id": "bdef3b67-513d-490b-a06d-53903b1be1d6",
   "metadata": {
    "tags": []
   },
   "outputs": [
    {
     "name": "stdout",
     "output_type": "stream",
     "text": [
      "Even numbers: [1, 2, 3, 4, 5, 6, 7, 8, 9, 10, 11, 12, 13, 14, 15, 16, 17, 18, 19, 20, 21, 22, 23, 24]\n",
      "Odd numbers: [1, 3, 5, 7, 9, 11, 13, 15, 17, 19, 21, 23]\n",
      "Sum of even numbers: 156\n"
     ]
    }
   ],
   "source": [
    "# numbers from 1 to 24\n",
    "numbers = list(range(1, 25))\n",
    "\n",
    "# variable for sum of even numbers\n",
    "sum_of_even = 0\n",
    "\n",
    "# Iterate the list and add even numbers\n",
    "for number in numbers:\n",
    "  if number % 2 == 0:\n",
    "    sum_of_even += number\n",
    "\n",
    "# results\n",
    "print(\"Even numbers:\", numbers)\n",
    "print(\"Odd numbers:\", [number for number in numbers if number % 2 != 0])\n",
    "print(\"Sum of even numbers:\", sum_of_even)\n"
   ]
  },
  {
   "cell_type": "code",
   "execution_count": 19,
   "id": "517ffcab-57fc-485d-9f94-5082df557c85",
   "metadata": {
    "tags": []
   },
   "outputs": [
    {
     "name": "stdout",
     "output_type": "stream",
     "text": [
      "Iteration count: 0 , Number: 1\n",
      "Iteration count: 1 , Number: 2\n",
      "Iteration count: 2 , Number: 3\n",
      "Iteration count: 3 , Number: 4\n",
      "Iteration count: 4 , Number: 5\n",
      "while loop executed, now in else block\n",
      "END of program\n"
     ]
    }
   ],
   "source": [
    "numbers = list(range(1, 25))\n",
    "\n",
    "count = 0\n",
    "while count < len(numbers):\n",
    "  if count < 5:\n",
    "    print(\"Iteration count:\", count, \", Number:\", numbers[count])\n",
    "  else:\n",
    "    print(\"while loop executed, now in else block\")\n",
    "    break  # Exit the loop after printing the message once\n",
    "  count += 1\n",
    "\n",
    "print(\"END of program\")"
   ]
  },
  {
   "cell_type": "code",
   "execution_count": 21,
   "id": "3f3e5941-ee85-47b4-bf18-d73f65f7041a",
   "metadata": {
    "tags": []
   },
   "outputs": [
    {
     "name": "stdin",
     "output_type": "stream",
     "text": [
      "Number of characters:  8\n",
      "Characters :  hdakjsdash\n",
      "Special Characters :  @@@@@\n"
     ]
    },
    {
     "name": "stdout",
     "output_type": "stream",
     "text": [
      "Your password: @@as@dkd\n"
     ]
    }
   ],
   "source": [
    "import random\n",
    "def generate_password(num_chars, allowed_chars, special_chars):\n",
    "  password = \"\"\n",
    "  for i in range(num_chars):\n",
    "    char_pool = allowed_chars + special_chars\n",
    "    password += random.choice(char_pool)\n",
    "  return password.lower()\n",
    "\n",
    "num_chars = int(input(\"Number of characters: \"))\n",
    "allowed_chars = input(\"Characters : \").lower()\n",
    "special_chars = input(\"Special Characters : \")\n",
    "\n",
    "\n",
    "password = generate_password(num_chars, allowed_chars, special_chars)\n",
    "print(\"Your password:\", password)"
   ]
  },
  {
   "cell_type": "code",
   "execution_count": 23,
   "id": "d433d988-15e8-46fb-8a7c-59fb2922f432",
   "metadata": {
    "tags": []
   },
   "outputs": [
    {
     "name": "stdin",
     "output_type": "stream",
     "text": [
      "Enter the number of passwords you want:  1\n",
      "Number of characters:  18\n",
      "Characters :  hhg\n",
      "Special Characters :  @#$\n"
     ]
    },
    {
     "name": "stdout",
     "output_type": "stream",
     "text": [
      "Your password: hh@g@h#g$$@#$ggh@#\n"
     ]
    }
   ],
   "source": [
    "import random\n",
    "def generate_password(num_chars, allowed_chars, special_chars):\n",
    "  password = \"\"\n",
    "  for i in range(num_chars):\n",
    "    char_pool = allowed_chars + special_chars\n",
    "    password += random.choice(char_pool)\n",
    "  return password.lower()\n",
    "\n",
    "num_passwords = int(input(\"Enter the number of passwords you want: \"))\n",
    "\n",
    "for _ in range(num_passwords):\n",
    "    num_chars = int(input(\"Number of characters: \"))\n",
    "    allowed_chars = input(\"Characters : \").lower()\n",
    "    special_chars = input(\"Special Characters : \")\n",
    "    password = generate_password(num_chars, allowed_chars, special_chars)\n",
    "    print(\"Your password:\", password)"
   ]
  },
  {
   "cell_type": "code",
   "execution_count": null,
   "id": "dd7d7e02-48b3-4758-9408-2c3ae11d1a61",
   "metadata": {},
   "outputs": [],
   "source": []
  }
 ],
 "metadata": {
  "kernelspec": {
   "display_name": "Python 3 (ipykernel)",
   "language": "python",
   "name": "python3"
  },
  "language_info": {
   "codemirror_mode": {
    "name": "ipython",
    "version": 3
   },
   "file_extension": ".py",
   "mimetype": "text/x-python",
   "name": "python",
   "nbconvert_exporter": "python",
   "pygments_lexer": "ipython3",
   "version": "3.11.4"
  }
 },
 "nbformat": 4,
 "nbformat_minor": 5
}
