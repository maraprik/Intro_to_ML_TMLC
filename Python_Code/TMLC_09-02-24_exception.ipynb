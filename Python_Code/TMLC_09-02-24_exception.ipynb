{
 "cells": [
  {
   "cell_type": "code",
   "execution_count": 114,
   "id": "8daee642-1b09-43ea-8dbf-f14e78456336",
   "metadata": {
    "tags": []
   },
   "outputs": [
    {
     "name": "stdin",
     "output_type": "stream",
     "text": [
      "Enter a number:  o\n"
     ]
    },
    {
     "name": "stdout",
     "output_type": "stream",
     "text": [
      "Invalid input. Please enter an integer.\n"
     ]
    }
   ],
   "source": [
    "value = input(\"Enter a number: \")\n",
    "try:\n",
    "    int(value)\n",
    "    print(value)\n",
    "except ValueError:\n",
    "    print((\"Invalid input. Please enter an integer.\"))"
   ]
  },
  {
   "cell_type": "code",
   "execution_count": 152,
   "id": "3dca6fde-bb51-4b63-a2cf-f5965c5aee93",
   "metadata": {
    "tags": []
   },
   "outputs": [
    {
     "name": "stdin",
     "output_type": "stream",
     "text": [
      "Enter the first number:  k\n",
      "Enter the second number:  k\n"
     ]
    },
    {
     "name": "stdout",
     "output_type": "stream",
     "text": [
      "Error: Input should be a number\n"
     ]
    }
   ],
   "source": [
    "num1 = input(\"Enter the first number: \")\n",
    "num2 = input(\"Enter the second number: \")\n",
    "\n",
    "def get_numbers():\n",
    "    try:\n",
    "        float(num1)\n",
    "        float(num2)\n",
    "        return num1, num2\n",
    "    except ValueError:\n",
    "        raise TypeError(\"Input should be a number\")\n",
    "\n",
    "try:\n",
    "    get_numbers()\n",
    "except TypeError as te:\n",
    "    print(\"Error:\", te)"
   ]
  },
  {
   "cell_type": "code",
   "execution_count": 98,
   "id": "026d0cb5-9323-49d3-8ad6-76140491fc15",
   "metadata": {
    "tags": []
   },
   "outputs": [
    {
     "name": "stdout",
     "output_type": "stream",
     "text": [
      "1\n",
      "2\n",
      "3\n",
      "Index 3 is out of range\n"
     ]
    }
   ],
   "source": [
    "my_list = list(range(1, 4))\n",
    "for i in range(4):\n",
    "    try:\n",
    "        print(my_list[i])\n",
    "    except IndexError:\n",
    "        print(\"Index\", i, \"is out of range\")"
   ]
  },
  {
   "cell_type": "code",
   "execution_count": null,
   "id": "6b12ef3a-048d-4e8b-bc13-46a1b29caf12",
   "metadata": {},
   "outputs": [],
   "source": []
  }
 ],
 "metadata": {
  "kernelspec": {
   "display_name": "Python 3 (ipykernel)",
   "language": "python",
   "name": "python3"
  },
  "language_info": {
   "codemirror_mode": {
    "name": "ipython",
    "version": 3
   },
   "file_extension": ".py",
   "mimetype": "text/x-python",
   "name": "python",
   "nbconvert_exporter": "python",
   "pygments_lexer": "ipython3",
   "version": "3.11.4"
  }
 },
 "nbformat": 4,
 "nbformat_minor": 5
}
