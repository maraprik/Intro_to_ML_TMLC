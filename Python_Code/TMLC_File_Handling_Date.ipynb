{
  "nbformat": 4,
  "nbformat_minor": 0,
  "metadata": {
    "colab": {
      "provenance": []
    },
    "kernelspec": {
      "name": "python3",
      "display_name": "Python 3"
    },
    "language_info": {
      "name": "python"
    }
  },
  "cells": [
    {
      "cell_type": "code",
      "execution_count": 16,
      "metadata": {
        "colab": {
          "base_uri": "https://localhost:8080/"
        },
        "id": "FBDVykDX37R3",
        "outputId": "0bd816f4-7cb5-49b1-9f49-6374066cf29e"
      },
      "outputs": [
        {
          "output_type": "stream",
          "name": "stdout",
          "text": [
            "/content\n"
          ]
        }
      ],
      "source": [
        "import os\n",
        "os.chdir=(\"/Users/kripa/Documents/\")\n",
        "print ( os.getcwd())\n",
        "\n",
        "from datetime import date , timedelta, datetime"
      ]
    },
    {
      "cell_type": "code",
      "source": [
        "def save_text_to_file(file_name):\n",
        "    # Open the file in write mode\n",
        "    with open(file_name, \"w\") as file:\n",
        "        print(\"Enter text (press Enter to finish):\")\n",
        "        while True:\n",
        "            line = input()\n",
        "            file.write(line)  # Write the line to the file regardless\n",
        "            break\n",
        "\n",
        "    print(\"Text saved to '{}'.\".format(file_name))\n",
        "\n",
        "def main():\n",
        "    file_name = input(\"Enter the file name: \")\n",
        "    save_text_to_file(file_name)\n",
        "\n",
        "if __name__ == \"__main__\":\n",
        "    main()"
      ],
      "metadata": {
        "colab": {
          "base_uri": "https://localhost:8080/"
        },
        "id": "aVGQLlUd9mM8",
        "outputId": "c60eb92f-8e70-4d22-892f-7f7287a305f3"
      },
      "execution_count": 9,
      "outputs": [
        {
          "output_type": "stream",
          "name": "stdout",
          "text": [
            "Enter the file name: jjruoara\n",
            "Enter text (press Enter alone to finish):\n",
            "kjdkfjdslfkjsdfjsdlkfjsldjflsdjflsdjflksdajflsdjfldsjflksdfljfkdjajflsd'\n",
            "Text saved to 'jjruoara'.\n"
          ]
        }
      ]
    },
    {
      "cell_type": "code",
      "source": [
        "def copy_file(source_file, destination_file):\n",
        "    # Open the source file in read mode\n",
        "    with open(source_file, 'r') as source:\n",
        "    # Open the destination file in write mode\n",
        "        with open(destination_file, 'w') as destination:\n",
        "    # Iterate over each line in the source file\n",
        "            for line in source:\n",
        "    # Write the line to the destination file\n",
        "                destination.write(line)\n",
        "\n",
        "    print(\"Contents copied from '{}' to '{}'.\".format(source_file, destination_file))\n",
        "\n",
        "def main():\n",
        "    source_file = \"source.txt\"\n",
        "    destination_file = \"destination.txt\"\n",
        "    copy_file(source_file, destination_file)\n",
        "\n",
        "if __name__ == \"__main__\":\n",
        "    main()\n"
      ],
      "metadata": {
        "colab": {
          "base_uri": "https://localhost:8080/"
        },
        "id": "qcHG4sAy96pv",
        "outputId": "cdef9ff1-3c93-431f-ab56-019689621e98"
      },
      "execution_count": 11,
      "outputs": [
        {
          "output_type": "stream",
          "name": "stdout",
          "text": [
            "Contents copied from 'source.txt' to 'destination.txt'.\n"
          ]
        }
      ]
    },
    {
      "cell_type": "code",
      "source": [
        "def current_date():\n",
        "    # Get the current date and time\n",
        "    curr_date = datetime.now()\n",
        "\n",
        "    # Format the date as \"YYYY-MM-DD\"\n",
        "    format_date = curr_date.strftime(\"%Y-%m-%d\")\n",
        "\n",
        "    # Print the formatted date\n",
        "    print(\"Current date is :\", format_date)\n",
        "\n",
        "# Call the function to print the current date\n",
        "current_date()"
      ],
      "metadata": {
        "colab": {
          "base_uri": "https://localhost:8080/"
        },
        "id": "4Svj4zKBED0O",
        "outputId": "25040171-a3a0-4d56-f778-e3885d2794cb"
      },
      "execution_count": 22,
      "outputs": [
        {
          "output_type": "stream",
          "name": "stdout",
          "text": [
            "Current date is : 2024-03-01\n"
          ]
        }
      ]
    },
    {
      "cell_type": "code",
      "source": [
        "def calculate_future_date():\n",
        "    # Get the number of days from the user\n",
        "    num_days = int(input(\"Enter the number of days: \"))\n",
        "\n",
        "    # Get the current date\n",
        "    curr_date = datetime.now()\n",
        "\n",
        "    # Calculate the future date\n",
        "    future_date = curr_date + timedelta(days=num_days)\n",
        "\n",
        "    # Print the future date\n",
        "    print(\"Date after {} days from current_date is : {}\".format(num_days, future_date.strftime(\"%Y-%m-%d\")))\n",
        "\n",
        "# Call the function to calculate the future date\n",
        "calculate_future_date()"
      ],
      "metadata": {
        "colab": {
          "base_uri": "https://localhost:8080/"
        },
        "id": "eoDawfo3FqLm",
        "outputId": "ae1d8d9a-7884-41f7-9b52-70c8aa5e01c0"
      },
      "execution_count": 26,
      "outputs": [
        {
          "output_type": "stream",
          "name": "stdout",
          "text": [
            "Enter the number of days: 6\n",
            "Date after 6 days from current_date is : 2024-03-07\n"
          ]
        }
      ]
    },
    {
      "cell_type": "code",
      "source": [
        "from datetime import datetime\n",
        "\n",
        "time_string = \"8 December, 2023\"\n",
        "time_format = \"%d %B, %Y\"\n",
        "\n",
        "time_object = datetime.strptime(time_string, time_format)\n",
        "print(time_object)"
      ],
      "metadata": {
        "colab": {
          "base_uri": "https://localhost:8080/"
        },
        "id": "kQKNHOdrGhE7",
        "outputId": "0a7a2bd3-0ea9-4ac6-8ae2-1244a138b1e3"
      },
      "execution_count": 27,
      "outputs": [
        {
          "output_type": "stream",
          "name": "stdout",
          "text": [
            "2023-12-08 00:00:00\n"
          ]
        }
      ]
    },
    {
      "cell_type": "code",
      "source": [
        "from datetime import datetime\n",
        "\n",
        "def compare_dates(date1, date2):\n",
        "    if date1 < date2:\n",
        "        return \"before\"\n",
        "    elif date1 > date2:\n",
        "        return \"after\"\n",
        "    else:\n",
        "        return \"on the same date as\"\n",
        "\n",
        "def main():\n",
        "    date1 = datetime.strptime(input(\"Enter the first date (YYYY-MM-DD): \"), \"%d-%m-%Y\")\n",
        "    date2 = datetime.strptime(input(\"Enter the second date (YYYY-MM-DD): \"), \"%d-%m-%Y\")\n",
        "\n",
        "    comparison_result = compare_dates(date1, date2)\n",
        "\n",
        "    print(\"The first date is\", comparison_result, \"the second date.\")\n",
        "\n",
        "if __name__ == \"__main__\":\n",
        "    main()\n"
      ],
      "metadata": {
        "colab": {
          "base_uri": "https://localhost:8080/"
        },
        "id": "FrGahSMGHNZH",
        "outputId": "3062d30a-2503-461b-e291-103801eb4a63"
      },
      "execution_count": 32,
      "outputs": [
        {
          "output_type": "stream",
          "name": "stdout",
          "text": [
            "Enter the first date (YYYY-MM-DD): 12-12-1982\n",
            "Enter the second date (YYYY-MM-DD): 11-11-1982\n",
            "The first date is after the second date.\n"
          ]
        }
      ]
    },
    {
      "cell_type": "code",
      "source": [
        "from datetime import datetime\n",
        "\n",
        "def compare_dates(date1, date2):\n",
        "    if date1 < date2:\n",
        "        return \"before\"\n",
        "    elif date1 > date2:\n",
        "        return \"after\"\n",
        "    else:\n",
        "        return \"on the same date as\"\n",
        "\n",
        "def get_valid_date(datewithformat):\n",
        "    while True:\n",
        "        try:\n",
        "            date_str = input(datewithformat)\n",
        "            date = datetime.strptime(date_str, \"%d-%m-%Y\")\n",
        "            return date\n",
        "        except ValueError:\n",
        "            print(\"Incorrect date format, please enter the date in the format DD-MM-YYYY.\")\n",
        "\n",
        "def main():\n",
        "    date1 = get_valid_date(\"Enter the first date (DD-MM-YYYY): \")\n",
        "    date2 = get_valid_date(\"Enter the second date (DD-MM-YYYY): \")\n",
        "\n",
        "    result = compare_dates(date1, date2)\n",
        "\n",
        "    print(\"The first date is\", result, \"the second date.\")\n",
        "123\n",
        "if __name__ == \"__main__\":\n",
        "    main()"
      ],
      "metadata": {
        "colab": {
          "base_uri": "https://localhost:8080/"
        },
        "id": "gt632VEnHgqb",
        "outputId": "73d0e5c3-ad44-40bb-878f-9f0f9739f648"
      },
      "execution_count": 44,
      "outputs": [
        {
          "output_type": "stream",
          "name": "stdout",
          "text": [
            "Enter the first date (DD-MM-YYYY): 123-\n",
            "Incorrect date format, please enter the date in the format DD-MM-YYYY.\n",
            "Enter the first date (DD-MM-YYYY): 67-04-2022\n",
            "Incorrect date format, please enter the date in the format DD-MM-YYYY.\n",
            "Enter the first date (DD-MM-YYYY): 01-01-2022\n",
            "Enter the second date (DD-MM-YYYY): 02-02-2022\n",
            "The first date is before the second date.\n"
          ]
        }
      ]
    },
    {
      "cell_type": "code",
      "source": [],
      "metadata": {
        "id": "87eVq1SEIWTx"
      },
      "execution_count": 33,
      "outputs": []
    }
  ]
}