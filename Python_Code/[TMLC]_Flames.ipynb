{
  "nbformat": 4,
  "nbformat_minor": 0,
  "metadata": {
    "colab": {
      "provenance": []
    },
    "kernelspec": {
      "name": "python3",
      "display_name": "Python 3"
    },
    "language_info": {
      "name": "python"
    }
  },
  "cells": [
    {
      "cell_type": "code",
      "source": [
        "print(\"Play the FLAMES Game to find out the relationship between names\")\n",
        "\n",
        "f = ['friend','love','affection','marriage','enemy','sister']\n",
        "\n",
        "print (\" Friend\")\n",
        "print (\" Lover\")\n",
        "print (\" Affection\")\n",
        "print (\" Marriage\")\n",
        "print (\" Enemie\")\n",
        "print (\" Sibling\")\n",
        "\n",
        "def remove_chars(list1, list2):\n",
        "    common_chars = set()\n",
        "\n",
        "    for char in list1:\n",
        "        if char in list2:\n",
        "            if char not in common_chars:  # Check if it's a new common character\n",
        "                common_chars.add(char)\n",
        "            else:\n",
        "                list1.remove(char)\n",
        "                list2.remove(char)\n",
        "\n",
        "    for char in list2:\n",
        "        if char in list1:\n",
        "            if char not in common_chars:  # Check if it's a new common character\n",
        "                common_chars.add(char)\n",
        "            else:\n",
        "                list1.remove(char)\n",
        "                list2.remove(char)\n",
        "\n",
        "    # Combine remaining characters\n",
        "    combined_chars = list1 + list2\n",
        "\n",
        " # Count remaining characters\n",
        "    remaining_count = len(combined_chars)\n",
        "\n",
        "    return remaining_count, combined_chars\n",
        "\n",
        "def fl_result(number):\n",
        "  index = 0\n",
        "  while len(f) > 1:\n",
        "    for i in range(number):\n",
        "      index+=1\n",
        "      #print(f)\n",
        "      #print(index)\n",
        "      if index > len(f):\n",
        "        index = 1\n",
        "        #print(f[index])\n",
        "        #print(index)\n",
        "    f.remove(f[index-1])\n",
        "    #print(f)\n",
        "    #print(index)\n",
        "    index -= 1\n",
        "    #print(index)\n",
        "  return f\n",
        "\n",
        "\n",
        "def main():\n",
        "  name1 = input(\"enter the first name: \")\n",
        "  name2 = input(\"enter the second name: \")\n",
        "  name1 = name1.lower().replace(\" \", \"\")\n",
        "  name2 = name2.lower().replace(\" \", \"\")\n",
        "\n",
        "  list1 = list(name1)\n",
        "  list2 = list(name2)\n",
        "\n",
        "  #print( name1 +\" \"+ name2)\n",
        "  rcount, combinedtext = remove_chars(list1, list2)\n",
        "  result = fl_result(rcount)\n",
        "\n",
        "  print('Relationship is', result[0])\n",
        "\n",
        "\n",
        "if __name__ == \"__main__\":\n",
        "   main()\n"
      ],
      "metadata": {
        "colab": {
          "base_uri": "https://localhost:8080/"
        },
        "id": "UOR3iozRPpcU",
        "outputId": "f8c67a6f-ac52-4e6d-982a-88609ec58051"
      },
      "execution_count": null,
      "outputs": [
        {
          "output_type": "stream",
          "name": "stdout",
          "text": [
            "Play the FLAMES Game to find out the relationship between names\n",
            " Friend\n",
            " Lover\n",
            " Affection\n",
            " Marriage\n",
            " Enemie\n",
            " Sibling\n",
            "enter the first name: ragini\n",
            "enter the second name: ridhruvan\n",
            "Relationship is enemy\n"
          ]
        }
      ]
    },
    {
      "cell_type": "code",
      "source": [],
      "metadata": {
        "id": "zgEmSPpKSY0P"
      },
      "execution_count": null,
      "outputs": []
    }
  ]
}