{
  "nbformat": 4,
  "nbformat_minor": 0,
  "metadata": {
    "colab": {
      "provenance": []
    },
    "kernelspec": {
      "name": "python3",
      "display_name": "Python 3"
    },
    "language_info": {
      "name": "python"
    }
  },
  "cells": [
    {
      "cell_type": "markdown",
      "source": [
        "# Single Inheritance"
      ],
      "metadata": {
        "id": "h2wNRSbPUDPm"
      }
    },
    {
      "cell_type": "code",
      "source": [
        "class Animal:\n",
        "    def speak(self):\n",
        "        return \"Animal speaks\"\n",
        "\n",
        "\n",
        "class Dog(Animal):  # Dog inherits from Animal\n",
        "    def bark(self):\n",
        "        return \"Woof!\"\n",
        "\n",
        "\n",
        "dog = Dog()\n",
        "print(dog.speak())  # Output: Animal speaks\n",
        "print(dog.bark())   # Output: Woof!\n"
      ],
      "metadata": {
        "colab": {
          "base_uri": "https://localhost:8080/"
        },
        "id": "y6kQ8Wo4URfT",
        "outputId": "b0fdf6a9-1136-4f06-e232-4239e788a386"
      },
      "execution_count": 1,
      "outputs": [
        {
          "output_type": "stream",
          "name": "stdout",
          "text": [
            "Animal speaks\n",
            "Woof!\n"
          ]
        }
      ]
    },
    {
      "cell_type": "markdown",
      "source": [
        "# Multiple Inheritance"
      ],
      "metadata": {
        "id": "Jqae7zKMUDFP"
      }
    },
    {
      "cell_type": "code",
      "source": [
        "class Flyable:\n",
        "    def fly(self):\n",
        "        return \"Flying\"\n",
        "\n",
        "\n",
        "class Swimmable:\n",
        "    def swim(self):\n",
        "        return \"Swimming\"\n",
        "\n",
        "\n",
        "class Duck(Flyable, Swimmable):  # Duck inherits from both Flyable and Swimmable\n",
        "    pass\n",
        "\n",
        "\n",
        "duck = Duck()\n",
        "print(duck.fly())   # Output: Flying\n",
        "print(duck.swim())  # Output: Swimming\n"
      ],
      "metadata": {
        "colab": {
          "base_uri": "https://localhost:8080/"
        },
        "id": "YzTCIEuaUbez",
        "outputId": "b9879fcb-63a0-4f84-c25e-58cce44b68a0"
      },
      "execution_count": 2,
      "outputs": [
        {
          "output_type": "stream",
          "name": "stdout",
          "text": [
            "Flying\n",
            "Swimming\n"
          ]
        }
      ]
    },
    {
      "cell_type": "markdown",
      "source": [
        "# Multilevel Inheritance"
      ],
      "metadata": {
        "id": "2ALResmgUCqk"
      }
    },
    {
      "cell_type": "code",
      "source": [
        "class Animal:\n",
        "    def speak(self):\n",
        "        return \"Animal speaks\"\n",
        "\n",
        "\n",
        "class Dog(Animal):  # Dog inherits from Animal\n",
        "    def bark(self):\n",
        "        return \"Woof!\"\n",
        "\n",
        "\n",
        "class Labrador(Dog):  # Labrador inherits from Dog\n",
        "    pass\n",
        "\n",
        "\n",
        "labrador = Labrador()\n",
        "print(labrador.speak())  # Output: Animal speaks\n",
        "print(labrador.bark())   # Output: Woof!\n"
      ],
      "metadata": {
        "colab": {
          "base_uri": "https://localhost:8080/"
        },
        "id": "2hYECSEZUjBs",
        "outputId": "6c6b2d52-5d35-4d94-b2d3-c38df6946c30"
      },
      "execution_count": 3,
      "outputs": [
        {
          "output_type": "stream",
          "name": "stdout",
          "text": [
            "Animal speaks\n",
            "Woof!\n"
          ]
        }
      ]
    },
    {
      "cell_type": "markdown",
      "source": [
        "# Hierarchical Inheritance"
      ],
      "metadata": {
        "id": "wbeaXDKlUFRi"
      }
    },
    {
      "cell_type": "code",
      "execution_count": 4,
      "metadata": {
        "colab": {
          "base_uri": "https://localhost:8080/"
        },
        "id": "eyvKiNK-UBt0",
        "outputId": "d57f068d-c2f8-4a0b-f577-9355ca841bbd"
      },
      "outputs": [
        {
          "output_type": "stream",
          "name": "stdout",
          "text": [
            "Animal speaks\n",
            "Woof!\n",
            "Animal speaks\n",
            "Meow!\n"
          ]
        }
      ],
      "source": [
        "class Animal:\n",
        "    def speak(self):\n",
        "        return \"Animal speaks\"\n",
        "\n",
        "\n",
        "class Dog(Animal):  # Dog inherits from Animal\n",
        "    def bark(self):\n",
        "        return \"Woof!\"\n",
        "\n",
        "\n",
        "class Cat(Animal):  # Cat also inherits from Animal\n",
        "    def meow(self):\n",
        "        return \"Meow!\"\n",
        "\n",
        "\n",
        "dog = Dog()\n",
        "cat = Cat()\n",
        "print(dog.speak())  # Output: Animal speaks\n",
        "print(dog.bark())   # Output: Woof!\n",
        "print(cat.speak())  # Output: Animal speaks\n",
        "print(cat.meow())   # Output: Meow!\n"
      ]
    },
    {
      "cell_type": "markdown",
      "source": [
        "# Polymorphism"
      ],
      "metadata": {
        "id": "2vp7WlY-VLYL"
      }
    },
    {
      "cell_type": "code",
      "source": [
        "class Car:\n",
        "  def __init__(self, brand, model):\n",
        "    self.brand = brand\n",
        "    self.model = model\n",
        "\n",
        "  def move(self):\n",
        "    print(\"Drive!\")\n",
        "\n",
        "class Boat:\n",
        "  def __init__(self, brand, model):\n",
        "    self.brand = brand\n",
        "    self.model = model\n",
        "\n",
        "  def move(self):\n",
        "    print(\"Sail!\")\n",
        "\n",
        "class Plane:\n",
        "  def __init__(self, brand, model):\n",
        "    self.brand = brand\n",
        "    self.model = model\n",
        "\n",
        "  def move(self):\n",
        "    print(\"Fly!\")\n",
        "\n",
        "car1 = Car(\"Ford\", \"Mustang\")       #Create a Car class\n",
        "boat1 = Boat(\"Ibiza\", \"Touring 20\") #Create a Boat class\n",
        "plane1 = Plane(\"Boeing\", \"747\")     #Create a Plane class\n",
        "\n",
        "for x in (car1, boat1, plane1):\n",
        "  x.move()\n"
      ],
      "metadata": {
        "colab": {
          "base_uri": "https://localhost:8080/"
        },
        "id": "p2nBaxMFUra2",
        "outputId": "0b942f10-be09-4199-ef5e-5a0c995b8bfd"
      },
      "execution_count": 5,
      "outputs": [
        {
          "output_type": "stream",
          "name": "stdout",
          "text": [
            "Drive!\n",
            "Sail!\n",
            "Fly!\n"
          ]
        }
      ]
    },
    {
      "cell_type": "code",
      "source": [
        "class Cat:\n",
        "    def __init__(self, name, age):\n",
        "        self.name = name\n",
        "        self.age = age\n",
        "\n",
        "    def info(self):\n",
        "        print(f\"I am a cat. My name is {self.name}. I am {self.age} years old.\")\n",
        "\n",
        "    def make_sound(self):\n",
        "        print(\"Meow\")\n",
        "\n",
        "\n",
        "class Dog:\n",
        "    def __init__(self, name, age):\n",
        "        self.name = name\n",
        "        self.age = age\n",
        "\n",
        "    def info(self):\n",
        "        print(f\"I am a dog. My name is {self.name}. I am {self.age} years old.\")\n",
        "\n",
        "    def make_sound(self):\n",
        "        print(\"Bark\")\n",
        "\n",
        "\n",
        "cat1 = Cat(\"Kitty\", 2.5)\n",
        "dog1 = Dog(\"Fluffy\", 4)\n",
        "\n",
        "for animal in (cat1, dog1):\n",
        "    animal.make_sound()\n",
        "    animal.info()\n",
        "    animal.make_sound()\n"
      ],
      "metadata": {
        "colab": {
          "base_uri": "https://localhost:8080/"
        },
        "id": "Uj7h-veTVKfS",
        "outputId": "778468eb-aeb1-4254-c01f-666eac31c780"
      },
      "execution_count": 6,
      "outputs": [
        {
          "output_type": "stream",
          "name": "stdout",
          "text": [
            "Meow\n",
            "I am a cat. My name is Kitty. I am 2.5 years old.\n",
            "Meow\n",
            "Bark\n",
            "I am a dog. My name is Fluffy. I am 4 years old.\n",
            "Bark\n"
          ]
        }
      ]
    },
    {
      "cell_type": "markdown",
      "source": [
        "# Encapsulation"
      ],
      "metadata": {
        "id": "aspdRaf0YP__"
      }
    },
    {
      "cell_type": "code",
      "source": [
        "class BankAccount:\n",
        "    def __init__(self, account_number, balance):\n",
        "        self._account_number = account_number  # Protected attribute\n",
        "        self._balance = balance                # Protected attribute\n",
        "\n",
        "    def deposit(self, amount):\n",
        "        if amount > 0:\n",
        "            self._balance += amount\n",
        "            print(f\"Deposited {amount}. New balance: {self._balance}\")\n",
        "        else:\n",
        "            print(\"Invalid amount for deposit.\")\n",
        "\n",
        "    def withdraw(self, amount):\n",
        "        if 0 < amount <= self._balance:\n",
        "            self._balance -= amount\n",
        "            print(f\"Withdrew {amount}. New balance: {self._balance}\")\n",
        "        else:\n",
        "            print(\"Insufficient funds or invalid amount for withdrawal.\")\n",
        "\n",
        "    def display_balance(self):\n",
        "        print(f\"Account Number: {self._account_number}, Balance: {self._balance}\")\n",
        "\n",
        "\n",
        "# Create an instance of BankAccount\n",
        "account = BankAccount(\"123456789\", 1000)\n",
        "\n",
        "# Accessing attributes directly (not recommended, but possible due to protected access)\n",
        "print(account._account_number)  # Output: 123456789\n",
        "print(account._balance)         # Output: 1000\n",
        "\n",
        "# Performing operations using methods (encapsulation)\n",
        "account.deposit(500)            # Output: Deposited 500. New balance: 1500\n",
        "account.withdraw(200)           # Output: Withdrew 200. New balance: 1300\n",
        "account.display_balance()       # Output: Account Number: 123456789, Balance: 1300\n",
        "\n",
        "# Trying to withdraw an invalid amount\n",
        "account.withdraw(2000)          # Output: Insufficient funds or invalid amount for withdrawal.\n"
      ],
      "metadata": {
        "colab": {
          "base_uri": "https://localhost:8080/"
        },
        "id": "-Byi4LpUV5Mq",
        "outputId": "098ca4c0-e699-411f-b3ad-d9f710ee12e8"
      },
      "execution_count": 10,
      "outputs": [
        {
          "output_type": "stream",
          "name": "stdout",
          "text": [
            "123456789\n",
            "1000\n",
            "Deposited 500. New balance: 1500\n",
            "Withdrew 200. New balance: 1300\n",
            "Account Number: 123456789, Balance: 1300\n",
            "Insufficient funds or invalid amount for withdrawal.\n"
          ]
        }
      ]
    },
    {
      "cell_type": "code",
      "source": [],
      "metadata": {
        "id": "4eA-NxqlYVqJ"
      },
      "execution_count": null,
      "outputs": []
    }
  ]
}