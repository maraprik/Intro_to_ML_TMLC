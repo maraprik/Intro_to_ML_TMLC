{
  "nbformat": 4,
  "nbformat_minor": 0,
  "metadata": {
    "colab": {
      "provenance": []
    },
    "kernelspec": {
      "name": "python3",
      "display_name": "Python 3"
    },
    "language_info": {
      "name": "python"
    }
  },
  "cells": [
    {
      "cell_type": "code",
      "execution_count": null,
      "metadata": {
        "colab": {
          "base_uri": "https://localhost:8080/"
        },
        "id": "oDL7Hxt18SNK",
        "outputId": "1a262987-8681-467f-c8f5-7e8c004a3f77"
      },
      "outputs": [
        {
          "output_type": "stream",
          "name": "stdout",
          "text": [
            "Enter the name of the file: song of the century\n",
            "number of lines you want to write: 1\n",
            "Line 1: minsaram illamal pirakindra deepam pol maenikonda minmeenigal athisayamae udalukkul yengae uyir ullathenbathum uyirukkul kaadhal yengullathenbathum ninaithaal ninaithaal athisayamae\n",
            "File 'song of the century' creation success.\n"
          ]
        }
      ],
      "source": [
        "def create_file():\n",
        "    \"\"\" enter the name of the file \"\"\"\n",
        "    file_name = input(\"Enter the name of the file: \")\n",
        "\n",
        "    # specify the number of lines\n",
        "    num_lines = int(input(\"number of lines you want to write: \"))\n",
        "\n",
        "    # Open the file in write mode\n",
        "    with open(file_name, 'w') as file:\n",
        "\n",
        "        for i in range(num_lines):\n",
        "            line = input(\"Line {}: \".format(i+1))\n",
        "\n",
        "            file.write(line + '\\n')\n",
        "\n",
        "    print(\"File '{}' creation success.\".format(file_name))\n",
        "\n",
        "\n",
        "create_file()\n",
        "\n"
      ]
    },
    {
      "cell_type": "code",
      "source": [
        "def view_file():\n",
        "  \"\"\"View the contents of a text file.\"\"\"\n",
        "  filename = input(\"Enter the name of the file you want to view: \")\n",
        "\n",
        "  try:\n",
        "    with open(filename, \"r\") as file:\n",
        "      contents = file.read()\n",
        "      print(contents)\n",
        "  except FileNotFoundError:\n",
        "    print(f\"file {filename} could not be found.\")\n",
        "\n",
        "view_file()\n"
      ],
      "metadata": {
        "colab": {
          "base_uri": "https://localhost:8080/"
        },
        "id": "eBOJTDEU84bv",
        "outputId": "85389396-4876-43ae-c77d-4be796be95dc"
      },
      "execution_count": null,
      "outputs": [
        {
          "output_type": "stream",
          "name": "stdout",
          "text": [
            "Enter the name of the file you want to view: sdfsd\n",
            "file sdfsd could not be found.\n"
          ]
        }
      ]
    },
    {
      "cell_type": "code",
      "source": [
        "import os\n",
        "\n",
        "def delete_file():\n",
        "  \"\"\"Deletes a file if prompted.\"\"\"\n",
        "\n",
        "  filename = input(\"name of the file to be deleted: \")\n",
        "\n",
        "  try:\n",
        "    os.remove(filename)\n",
        "    print(f\"file {filename} has been deleted.\")\n",
        "  except FileNotFoundError:\n",
        "    print(f\"file {filename} could not be found.\")\n",
        "\n",
        "\n",
        "delete_file()\n"
      ],
      "metadata": {
        "colab": {
          "base_uri": "https://localhost:8080/"
        },
        "id": "BflUDzDp_KOD",
        "outputId": "3871fbce-fc51-4763-c967-db5a78bf1c4d"
      },
      "execution_count": null,
      "outputs": [
        {
          "output_type": "stream",
          "name": "stdout",
          "text": [
            "name of the file to be deleted: sdas\n",
            "file sdas could not be found.\n"
          ]
        }
      ]
    },
    {
      "cell_type": "code",
      "source": [
        "def main():\n",
        "  \"\"\"Main function to handle user interaction.\"\"\"\n",
        "  while True:\n",
        "    print(\"\\nMenu:\")\n",
        "    print(\"1. Create a new file\")\n",
        "    print(\"2. View an existing file\")\n",
        "    print(\"3. Delete a file\")\n",
        "    print(\"4. Exit program\")\n",
        "\n",
        "    choice = input(\"Enter your choice (1-4): \")\n",
        "\n",
        "    if choice == '1':\n",
        "      create_file()\n",
        "    elif choice == '2':\n",
        "      view_file()\n",
        "    elif choice == '3':\n",
        "      delete_file()\n",
        "    elif choice == '4':\n",
        "      print(\"Exiting...\")\n",
        "      break\n",
        "    else:\n",
        "      print(\"Invalid choice. Enter a number between 1 and 4.\")\n",
        "\n",
        "if __name__ == \"__main__\":\n",
        "  main()"
      ],
      "metadata": {
        "colab": {
          "base_uri": "https://localhost:8080/"
        },
        "id": "d3YbKs2t_nnq",
        "outputId": "61dbf4e1-20e2-4112-dba6-47b9fb2c35a6"
      },
      "execution_count": 12,
      "outputs": [
        {
          "output_type": "stream",
          "name": "stdout",
          "text": [
            "\n",
            "Menu:\n",
            "1. Create a new file\n",
            "2. View an existing file\n",
            "3. Delete a file\n",
            "4. Exit program\n",
            "Enter your choice (1-4): 4\n",
            "Exiting...\n"
          ]
        }
      ]
    },
    {
      "cell_type": "code",
      "source": [],
      "metadata": {
        "id": "vLd0SHBDAaU9"
      },
      "execution_count": null,
      "outputs": []
    }
  ]
}