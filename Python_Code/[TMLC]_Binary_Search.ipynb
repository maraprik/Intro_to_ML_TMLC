{
  "nbformat": 4,
  "nbformat_minor": 0,
  "metadata": {
    "colab": {
      "provenance": []
    },
    "kernelspec": {
      "name": "python3",
      "display_name": "Python 3"
    },
    "language_info": {
      "name": "python"
    }
  },
  "cells": [
    {
      "cell_type": "code",
      "execution_count": 22,
      "metadata": {
        "id": "3Ys00uZ6CMlG"
      },
      "outputs": [],
      "source": [
        "def binary_search(arr, x):\n",
        "    low = 0\n",
        "    high = len(arr)\n",
        "\n",
        "    while low <= high:\n",
        "        mid = (low + high) // 2\n",
        "        print(mid)\n",
        "        #print('low', low)\n",
        "        #print('high is', high)\n",
        "        #print('arrmid', arr[mid])\n",
        "        # Check if x is present at mid\n",
        "        if arr[mid] == x:\n",
        "            return mid\n",
        "\n",
        "        # If x is greater, ignore left half\n",
        "\n",
        "        elif arr[mid] < x:\n",
        "            low = mid + 1\n",
        "            #print('low is after', low)\n",
        "\n",
        "        # If x is smaller, ignore right half\n",
        "        else:\n",
        "            high = mid - 1\n",
        "            #print('high is after', high)\n",
        "    # If we reach here, then the element was not present\n",
        "    return -1\n"
      ]
    },
    {
      "cell_type": "code",
      "source": [
        "# Example\n",
        "numbers = list(range(1, 25))\n",
        "target = 9\n",
        "\n",
        "result = binary_search(numbers, target)\n",
        "\n",
        "if result != -1:\n",
        "    print(f\"Target found at index {result}\")\n",
        "else:\n",
        "    print(\"Target not found in the list\")\n"
      ],
      "metadata": {
        "colab": {
          "base_uri": "https://localhost:8080/"
        },
        "id": "SeXmYJAEGyJs",
        "outputId": "dfe75870-28bb-4979-e265-4791411d3c0c"
      },
      "execution_count": 23,
      "outputs": [
        {
          "output_type": "stream",
          "name": "stdout",
          "text": [
            "12\n",
            "low 0\n",
            "high is 24\n",
            "arrmid 13\n",
            "high is after 11\n",
            "5\n",
            "low 0\n",
            "high is 11\n",
            "arrmid 6\n",
            "low is after 6\n",
            "8\n",
            "low 6\n",
            "high is 11\n",
            "arrmid 9\n",
            "Target found at index 8\n"
          ]
        }
      ]
    },
    {
      "cell_type": "code",
      "source": [],
      "metadata": {
        "id": "JbLf_6viHYw2"
      },
      "execution_count": null,
      "outputs": []
    }
  ]
}